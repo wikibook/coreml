{
 "cells": [
  {
   "cell_type": "markdown",
   "metadata": {},
   "source": [
    "# Sketch Classifier for \"How Do Humans Sketch Objects?\""
   ]
  },
  {
   "cell_type": "markdown",
   "metadata": {},
   "source": [
    "A sketch classifier using the dataset from the paper <a href='http://cybertron.cg.tu-berlin.de/eitz/projects/classifysketch/'>How Do Humans Sketch Objects?</a> where the authors collected 20,000 unique sketches evenly distributed over 250 object categories - we will use a CNN (using Keras) to classify a sketch. "
   ]
  },
  {
   "cell_type": "markdown",
   "metadata": {},
   "source": [
    "<img src='http://cybertron.cg.tu-berlin.de/eitz/projects/classifysketch/teaser_siggraph.jpg'/>"
   ]
  },
  {
   "cell_type": "code",
   "execution_count": null,
   "metadata": {
    "collapsed": true
   },
   "outputs": [],
   "source": [
    "from __future__ import print_function\n",
    "import matplotlib.pyplot as plt\n",
    "import numpy as np\n",
    "from scipy.misc import imresize\n",
    "import os"
   ]
  },
  {
   "cell_type": "code",
   "execution_count": null,
   "metadata": {
    "collapsed": true
   },
   "outputs": [],
   "source": [
    "%matplotlib inline\n",
    "%config InlineBackend.figure_format = 'retina'\n",
    "\n",
    "plt.style.use('ggplot')"
   ]
  },
  {
   "cell_type": "code",
   "execution_count": null,
   "metadata": {
    "collapsed": true
   },
   "outputs": [],
   "source": [
    "import keras \n",
    "keras.__version__"
   ]
  },
  {
   "cell_type": "code",
   "execution_count": null,
   "metadata": {
    "collapsed": true
   },
   "outputs": [],
   "source": [
    "from keras import layers\n",
    "from keras import models\n",
    "from keras import optimizers\n",
    "from keras import callbacks\n",
    "\n",
    "from keras.utils import plot_model\n",
    "\n",
    "from keras import preprocessing\n",
    "from keras.preprocessing import image"
   ]
  },
  {
   "cell_type": "markdown",
   "metadata": {},
   "source": [
    "## Trained on Floydhub"
   ]
  },
  {
   "cell_type": "code",
   "execution_count": null,
   "metadata": {
    "collapsed": true
   },
   "outputs": [],
   "source": [
    "DEST_SKETCH_DIR = '/sketches_training_data/'\n",
    "TARGET_SIZE = (256,256)\n",
    "CATEGORIES_COUNT = 199\n",
    "TRAINING_SAMPLES = 12736\n",
    "VALIDATION_SAMPLES = 3184"
   ]
  },
  {
   "cell_type": "code",
   "execution_count": null,
   "metadata": {
    "collapsed": true
   },
   "outputs": [],
   "source": [
    "!ls /sketches_training_data"
   ]
  },
  {
   "cell_type": "markdown",
   "metadata": {},
   "source": [
    "## Create model "
   ]
  },
  {
   "cell_type": "code",
   "execution_count": null,
   "metadata": {
    "collapsed": true
   },
   "outputs": [],
   "source": [
    "def plot_accuracy_loss(history):\n",
    "    acc = history.history['acc']\n",
    "    val_acc = history.history['val_acc']\n",
    "    loss = history.history['loss']\n",
    "    val_loss = history.history['val_loss']\n",
    "\n",
    "    epochs = range(len(acc))\n",
    "\n",
    "    plt.plot(epochs, acc, 'bo', label='Training acc')\n",
    "    plt.plot(epochs, val_acc, 'b', label='Validation acc')\n",
    "    plt.title('Training and validation accuracy')\n",
    "    plt.legend()\n",
    "\n",
    "    plt.figure()\n",
    "\n",
    "    plt.plot(epochs, loss, 'bo', label='Training loss')\n",
    "    plt.plot(epochs, val_loss, 'b', label='Validation loss')\n",
    "    plt.title('Training and validation loss')\n",
    "    plt.legend()\n",
    "\n",
    "    plt.show()"
   ]
  },
  {
   "cell_type": "code",
   "execution_count": null,
   "metadata": {
    "collapsed": true
   },
   "outputs": [],
   "source": [
    "def train(model, \n",
    "          training_dir,\n",
    "          validation_dir,\n",
    "          target_size=TARGET_SIZE, \n",
    "          training_samples=TRAINING_SAMPLES, \n",
    "          validation_samples=VALIDATION_SAMPLES,\n",
    "          epochs=1000, \n",
    "          batch_size=512, \n",
    "          load_previous_weights=True,\n",
    "          model_weights_file=None):\n",
    "    \"\"\"\n",
    "    \n",
    "    \"\"\"\n",
    "    \n",
    "    if model_weights_file is None:\n",
    "        raise(\"No model weights file set\")\n",
    "    \n",
    "    print(\"Training STARTED - target size {}, batch size {}\".format(\n",
    "        target_size, \n",
    "        batch_size))\n",
    "    \n",
    "    if model_weights_file is not None and os.path.isfile(model_weights_file) and load_previous_weights:\n",
    "        print(\"Loading weights from file {}\".format(model_weights_file))\n",
    "        model.load_weights(model_weights_file)\n",
    "\n",
    "    model.compile(\n",
    "        loss='categorical_crossentropy', \n",
    "        optimizer='rmsprop', \n",
    "        metrics=['accuracy'])\n",
    "    \n",
    "    # create data generator \n",
    "    # check the official documentation for more details: https://keras.io/preprocessing/image/\n",
    "    datagen = preprocessing.image.ImageDataGenerator(\n",
    "        rescale=1./255., # rescaling factor applied by multiply the data by this value  \n",
    "        rotation_range=10, # value in degrees (0-180), a range within which to randomly rotate pictures\n",
    "        width_shift_range=0.1, # ranges (as a fraction of total width) to randomly translate pictures \n",
    "        height_shift_range=0.1, # ranges (as a fraction of total height) to randomly translate pictures \n",
    "        shear_range=0.1, # randomly applying shearing transformations\n",
    "        zoom_range=0.1, # randomly zooming inside pictures\n",
    "        horizontal_flip=True, # randomly flipping half of the images horizontally\n",
    "        fill_mode='nearest') # strategy used for filling in newly created pixels\n",
    "    \n",
    "    if model.layers[0].input_shape[0] == target_size[0] and model.layers[0].input_shape[1] == target_size[1]:\n",
    "        target_size = None\n",
    "    \n",
    "    # create an iterator for the training data \n",
    "    train_generator = datagen.flow_from_directory(\n",
    "        training_dir,\n",
    "        target_size=target_size,\n",
    "        batch_size=batch_size, \n",
    "        color_mode='grayscale')\n",
    "    \n",
    "    # create an iterator for the validation data \n",
    "    validation_generator = datagen.flow_from_directory(\n",
    "        validation_dir,\n",
    "        target_size=target_size,\n",
    "        batch_size=batch_size, \n",
    "        color_mode='grayscale')\n",
    "    \n",
    "    checkpoint = callbacks.ModelCheckpoint(model_weights_file, \n",
    "                                           monitor='val_loss', \n",
    "                                           verbose=0, \n",
    "                                           save_best_only=True, \n",
    "                                           save_weights_only=True, \n",
    "                                           mode='auto', \n",
    "                                           period=2)\n",
    "    \n",
    "    early_stopping = callbacks.EarlyStopping(monitor='val_loss', patience=10)\n",
    "    \n",
    "    data_augmentation_multiplier = 2.5 \n",
    "    \n",
    "    history = model.fit_generator(\n",
    "        train_generator,\n",
    "        steps_per_epoch=int((training_samples/batch_size) * data_augmentation_multiplier),\n",
    "        epochs=epochs,\n",
    "        validation_data=validation_generator,\n",
    "        validation_steps=int((validation_samples/batch_size) * data_augmentation_multiplier), \n",
    "        callbacks=[checkpoint, early_stopping]) \n",
    "    \n",
    "    print(\"Training FINISHED - target size {}, batch size {}\".format(\n",
    "        target_size, \n",
    "        batch_size))\n",
    "    \n",
    "    return history, model     "
   ]
  },
  {
   "cell_type": "code",
   "execution_count": null,
   "metadata": {
    "collapsed": true
   },
   "outputs": [],
   "source": [
    "def create_model(input_shape=(128,128,1), classes=250, is_training=True):\n",
    "    \"\"\"\n",
    "    Create a CNN model \n",
    "    \"\"\"\n",
    "    \n",
    "    model = models.Sequential() \n",
    "    model.add(layers.Conv2D(32, \n",
    "                            kernel_size=(7,7), \n",
    "                            strides=(2,2), \n",
    "                            padding='same', \n",
    "                            activation='relu', \n",
    "                            input_shape=input_shape))\n",
    "    model.add(layers.MaxPooling2D(2,2))    \n",
    "    \n",
    "    model.add(layers.Conv2D(64, \n",
    "                            kernel_size=(5,5), \n",
    "                            padding='same', \n",
    "                            activation='relu'))\n",
    "    model.add(layers.MaxPooling2D(2,2))    \n",
    "    if is_training:\n",
    "        model.add(layers.Dropout(0.125))\n",
    "    \n",
    "    model.add(layers.Conv2D(128, \n",
    "                            kernel_size=(3,3), \n",
    "                            padding='same', \n",
    "                            activation='relu'))\n",
    "    model.add(layers.MaxPooling2D(2,2))    \n",
    "    \n",
    "    model.add(layers.Conv2D(128, \n",
    "                            kernel_size=(3,3), \n",
    "                            padding='same', \n",
    "                            activation='relu'))\n",
    "    model.add(layers.MaxPooling2D(2,2))    \n",
    "    \n",
    "    model.add(layers.Flatten())                \n",
    "    model.add(layers.Dense(512, activation='relu'))\n",
    "    if is_training:\n",
    "        model.add(layers.Dropout(0.5))\n",
    "        \n",
    "    model.add(layers.Dense(classes, activation='softmax', name='output'))\n",
    "    \n",
    "    return model"
   ]
  },
  {
   "cell_type": "code",
   "execution_count": null,
   "metadata": {
    "collapsed": true
   },
   "outputs": [],
   "source": [
    "model = create_model() \n",
    "model.summary()"
   ]
  },
  {
   "cell_type": "code",
   "execution_count": null,
   "metadata": {
    "collapsed": true
   },
   "outputs": [],
   "source": [
    "history, model = train(model, \n",
    "                       training_dir=os.path.join(DEST_SKETCH_DIR, 'training'), \n",
    "                       validation_dir=os.path.join(DEST_SKETCH_DIR, 'validation'), \n",
    "                       target_size=(256,256),\n",
    "                       epochs=1000, \n",
    "                       batch_size=512,\n",
    "                       model_weights_file=\"/output/cnn_sketch_weights_1.h5\", \n",
    "                       load_previous_weights=True)"
   ]
  },
  {
   "cell_type": "code",
   "execution_count": null,
   "metadata": {
    "collapsed": true
   },
   "outputs": [],
   "source": [
    "plot_accuracy_loss(history)"
   ]
  },
  {
   "cell_type": "code",
   "execution_count": null,
   "metadata": {
    "collapsed": true
   },
   "outputs": [],
   "source": []
  }
 ],
 "metadata": {
  "kernelspec": {
   "display_name": "Python 2",
   "language": "python",
   "name": "python2"
  },
  "language_info": {
   "codemirror_mode": {
    "name": "ipython",
    "version": 3
   },
   "file_extension": ".py",
   "mimetype": "text/x-python",
   "name": "python",
   "nbconvert_exporter": "python",
   "pygments_lexer": "ipython3",
   "version": "3.5.4"
  }
 },
 "nbformat": 4,
 "nbformat_minor": 2
}
